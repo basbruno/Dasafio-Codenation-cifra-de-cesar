{
  "nbformat": 4,
  "nbformat_minor": 0,
  "metadata": {
    "colab": {
      "name": "Cifra de Cesar, desafio codenation.ipynb",
      "provenance": [],
      "collapsed_sections": []
    },
    "kernelspec": {
      "name": "python3",
      "display_name": "Python 3"
    }
  },
  "cells": [
    {
      "cell_type": "code",
      "metadata": {
        "id": "nCekVkCTJui7",
        "colab_type": "code",
        "outputId": "bded7546-2584-4434-c6df-140477bd0288",
        "colab": {
          "base_uri": "https://localhost:8080/",
          "height": 92
        }
      },
      "source": [
        "# -*- coding: utf-8 -*-\n",
        "import json\n",
        "import requests\n",
        "import os\n",
        "import hashlib\n",
        "\n",
        "\n",
        "\n",
        "r = requests.get('https://api.codenation.dev/v1/challenge/dev-ps/generate-data?token=0d3d21d22772c3b860368399033867ea83f7aeb6')\n",
        "\n",
        "resposta = r.json()\n",
        "arquivo = open('answer.json', \"w\")\n",
        "json.dump(resposta, arquivo)\n",
        "arquivo.close()\n",
        "msg = resposta['cifrado']\n",
        "\n",
        "L2I = dict(zip(\"abcdefghijklmnopqrstuvwxyz\",range(26)))\n",
        "I2L = dict(zip(range(26),\"abcdefghijklmnopqrstuvwxyz\"))\n",
        "\n",
        "key = 8\n",
        "plaintext = msg\n",
        "\n",
        "# defipher\n",
        "ciphertext = \"\"\n",
        "for c in plaintext.lower():\n",
        "    if c.isalpha(): ciphertext += I2L[ (L2I[c] - key)%26 ]\n",
        "    else: ciphertext += c\n",
        "\n",
        "print (ciphertext)\n",
        "\n",
        "dados = {\n",
        "    'numero_casas': resposta['numero_casas'],\n",
        "    'token': resposta['token'],\n",
        "    'cifrado': resposta['cifrado'],\n",
        "    'decifrado': ciphertext,\n",
        "    'resumo_criptografico': hashlib.sha1(ciphertext.encode()).hexdigest()\n",
        "}\n",
        "\n",
        "print(dados)\n",
        "\n",
        "arquivo = open('answer.json', \"w\")\n",
        "json.dump(dados, arquivo)\n",
        "arquivo.close()\n",
        "\n",
        "url = 'https://api.codenation.dev/v1/challenge/dev-ps/submit-solution?token=0d3d21d22772c3b860368399033867ea83f7aeb6'\n",
        "files = {'answer': open('answer.json', 'rb')}\n",
        "r = requests.post(url, files=files)\n",
        "r.text\n",
        "\n"
      ],
      "execution_count": 36,
      "outputs": [
        {
          "output_type": "stream",
          "text": [
            "the best performance improvement is the transition from the nonworking state to the working state. john ousterhout\n",
            "{'numero_casas': 8, 'token': '0d3d21d22772c3b860368399033867ea83f7aeb6', 'cifrado': 'bpm jmab xmznwzuivkm quxzwdmumvb qa bpm bzivaqbqwv nzwu bpm vwvewzsqvo abibm bw bpm ewzsqvo abibm. rwpv wcabmzpwcb', 'decifrado': 'the best performance improvement is the transition from the nonworking state to the working state. john ousterhout', 'resumo_criptografico': '085fd7fbcdb35b856dd81a1ea7b1018b6b8c36b4'}\n"
          ],
          "name": "stdout"
        },
        {
          "output_type": "execute_result",
          "data": {
            "text/plain": [
              "'{\"score\":100}\\n'"
            ]
          },
          "metadata": {
            "tags": []
          },
          "execution_count": 36
        }
      ]
    }
  ]
}